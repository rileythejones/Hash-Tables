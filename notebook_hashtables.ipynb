{
 "cells": [
  {
   "cell_type": "code",
   "execution_count": 89,
   "metadata": {},
   "outputs": [],
   "source": [
    "class ListNode:\n",
    "    def __init__(self, key, value, prev=None, next=None):\n",
    "        self.key = key \n",
    "        self.value = value\n",
    "        self.prev = prev\n",
    "        self.next = next\n",
    "        \n",
    "    def delete(self):\n",
    "        if self.prev:\n",
    "            self.prev.next = self.next\n",
    "        if self.next:\n",
    "            self.next.prev = self.prev\n",
    "\n",
    "class DoublyLinkedList:\n",
    "    def __init__(self, node=None):\n",
    "        self.head = node\n",
    "        self.tail = node\n",
    "        self.length = 1 if node is not None else 0\n",
    "\n",
    "    def __len__(self):\n",
    "        return self.length\n",
    "\n",
    "    def add_to_head(self, key, value):\n",
    "        new_node = ListNode(key, value)\n",
    "        self.length += 1\n",
    "        if not self.head and not self.tail:\n",
    "            self.head = new_node\n",
    "            self.tail = new_node\n",
    "        else:\n",
    "            new_node.next = self.head\n",
    "            self.head.prev = new_node\n",
    "            self.head = new_node\n",
    "\n",
    "    def remove_from_head(self):\n",
    "        key, value = self.head.key, self.head.value\n",
    "        self.delete(self.head)\n",
    "        return key, value\n",
    "\n",
    "    def add_to_tail(self, key, value):\n",
    "        new_node = ListNode(key, value)\n",
    "        self.length += 1\n",
    "        if not self.head and not self.tail:\n",
    "            self.head = new_node\n",
    "            self.tail = new_node\n",
    "        else:\n",
    "            new_node.prev = self.tail\n",
    "            self.tail.next = new_node\n",
    "            self.tail = new_node\n",
    "\n",
    "    def remove_from_tail(self):\n",
    "        key, value = self.tail.key, self.tail.value\n",
    "        self.delete(self.tail)\n",
    "        return key, value\n",
    "\n",
    "    def move_to_front(self, node):\n",
    "        if node is self.head:\n",
    "            return\n",
    "        self.add_to_head(node.key, node.value)\n",
    "        self.delete(node)\n",
    "\n",
    "    def move_to_end(self, node):\n",
    "        if node is self.tail:\n",
    "            return\n",
    "        self.add_to_tail(node.key, node.value)\n",
    "        self.delete(node)\n",
    "\n",
    "    def delete(self, node):\n",
    "        self.length -= 1\n",
    "        if self.head is self.tail:\n",
    "            self.head = None\n",
    "            self.tail = None\n",
    "        elif node is self.head:\n",
    "            self.head = node.next\n",
    "            node.delete()\n",
    "        elif node is self.tail:\n",
    "            self.tail = node.prev\n",
    "            node.delete()\n",
    "        else:\n",
    "            node.delete()\n",
    "\n",
    "    def get_max(self):\n",
    "        current = self.head\n",
    "        max = self.head.value\n",
    "\n",
    "        while current is not None:\n",
    "            if current.value > max:\n",
    "                max = current.value\n",
    "            current = current.next\n",
    "        return max"
   ]
  },
  {
   "cell_type": "code",
   "execution_count": 92,
   "metadata": {},
   "outputs": [],
   "source": [
    "# class HashTableEntry:\n",
    "#     def __init__(self, key, value):\n",
    "#         self.key = key\n",
    "#         self.value = value\n",
    "#         self.next = None\n",
    "\n",
    "class HashTable:\n",
    "    def __init__(self, CAPACITY):\n",
    "        self.capacity = CAPACITY \n",
    "        self.size = 0 \n",
    "        self.storage = []\n",
    "        \n",
    "        for x in range(0, self.capacity):\n",
    "            DLL = DoublyLinkedList()\n",
    "            self.storage.append(DLL)\n",
    "        \n",
    "    def djb2(self, key):\n",
    "        hash = 5381\n",
    "        for x in key:\n",
    "            hash = (( hash << 5) + hash) + ord(x)\n",
    "        return hash & 0xFFFFFFFF\n",
    "\n",
    "    def hash_index(self, key):\n",
    "        return self.djb2(key) % self.capacity\n",
    "\n",
    "    def put(self, key, value):\n",
    "        self.size += 1 \n",
    "        index = self.hash_index(key)\n",
    "        DLL = self.storage[index]\n",
    "        DLL.add_to_head(key, value)\n",
    "\n",
    "    def delete(self, key):\n",
    "        index = self.hash_index(key)\n",
    "        node = self.storage[index].head\n",
    "        while node.key != key:\n",
    "            node = node.next \n",
    "        DLL = self.storage[index]   \n",
    "        DLL.remove_from_head()\n",
    "               \n",
    "    def get(self, key):\n",
    "        index = self.hash_index(key)\n",
    "        node = self.storage[index].head\n",
    "        while node.key != key:\n",
    "            node = node.next \n",
    "        return node.value     \n",
    "           \n",
    "    def resize(self):\n",
    "        old_storage = self.storage\n",
    "        self.storage = []\n",
    "        new_cap = self.capacity*2\n",
    "        \n",
    "        for x in range(0, new_cap):\n",
    "            DLL = DoublyLinkedList()\n",
    "            self.storage.append(DLL)\n",
    "            \n",
    "        for DLL in old_storage:\n",
    "            node = DLL.head\n",
    "            while node:\n",
    "                key = node.key\n",
    "                value = node.value\n",
    "                node = node.next\n",
    "                self.put(key, value)"
   ]
  },
  {
   "cell_type": "code",
   "execution_count": 93,
   "metadata": {},
   "outputs": [
    {
     "name": "stdout",
     "output_type": "stream",
     "text": [
      "\n",
      "Tiny hash table\n",
      "Filled beyond capacity\n",
      "Linked list saves the day!\n",
      "\n",
      "Resized from 2 to 4.\n",
      "\n",
      "Tiny hash table\n",
      "Filled beyond capacity\n",
      "Linked list saves the day!\n",
      "\n"
     ]
    }
   ],
   "source": [
    "ht = HashTable(2)\n",
    "\n",
    "ht.put(\"line_1\", \"Tiny hash table\")\n",
    "ht.put(\"line_2\", \"Filled beyond capacity\")\n",
    "ht.put(\"line_3\", \"Linked list saves the day!\")\n",
    "\n",
    "print(\"\")\n",
    "\n",
    "# Test storing beyond capacity\n",
    "print(ht.get(\"line_1\"))\n",
    "print(ht.get(\"line_2\"))\n",
    "print(ht.get(\"line_3\"))\n",
    "\n",
    "# Test resizing\n",
    "old_capacity = len(ht.storage)\n",
    "ht.resize()\n",
    "new_capacity = len(ht.storage)\n",
    "\n",
    "print(f\"\\nResized from {old_capacity} to {new_capacity}.\\n\")\n",
    "\n",
    "# Test if data intact after resizing\n",
    "print(ht.get(\"line_1\"))\n",
    "print(ht.get(\"line_2\"))\n",
    "print(ht.get(\"line_3\"))\n",
    "\n",
    "print(\"\")"
   ]
  },
  {
   "cell_type": "code",
   "execution_count": 94,
   "metadata": {},
   "outputs": [
    {
     "name": "stdout",
     "output_type": "stream",
     "text": [
      "Tiny hash table\n",
      "Filled beyond capacity\n",
      "Linked list saves the day!\n"
     ]
    }
   ],
   "source": [
    "ht = HashTable(2)\n",
    "\n",
    "ht.put(\"line_1\", \"Tiny hash table\")\n",
    "ht.put(\"line_2\", \"Filled beyond capacity\")\n",
    "ht.put(\"line_3\", \"Linked list saves the day!\")\n",
    "\n",
    "print(ht.get(\"line_1\"))\n",
    "print(ht.get(\"line_2\"))\n",
    "print(ht.get(\"line_3\"))"
   ]
  },
  {
   "cell_type": "markdown",
   "metadata": {},
   "source": []
  },
  {
   "cell_type": "markdown",
   "metadata": {},
   "source": [
    "open addressing:\n",
    "linear probing involves putting a would be collision on an open space in the hash table \n",
    "and relies on increasing the size of the hash table to accomodate more hashes? \n",
    "\n",
    "put:\n",
    "scan forward from the hash index until we find either the key, or None\n",
    "If we find a deleted slot along the way, keep it in mind\n",
    "put the value there\n",
    "\n",
    "get:\n",
    "scan forward from the hash index until we find either the key, or None\n",
    "put the value there\n",
    "\n",
    "delete:\n",
    "scan forward from the hash index until we find either the key, or None\n",
    "If we find the key mark it as deleted"
   ]
  },
  {
   "cell_type": "markdown",
   "metadata": {},
   "source": [
    "Collison Resolution by Chaining\n",
    "\n",
    "Each slot of the hash table holds a linked list\n",
    "Collisons are handled by adding multiple items to the same linked list\n",
    "\n",
    "Slot\n",
    "Index (linked list)\n",
    "\n",
    "0 -> None\n",
    "1 -> (\"foo\", 12) \n",
    "2 -> (\"baz\", 999)\n",
    "3 -> None\n",
    "\n",
    "put (\"foo\", 12) # hashes to index 1 \n",
    "put (\"bar\", 30) # hashes to index 2 \n",
    "put (\"baz\", 999) # hashes to index 2 <<\n",
    "\n",
    "get(\"beej\") # hashes to index 1 \n",
    "return None\n",
    "get(\"baz\") # hashes to index 2\n",
    "return 999\n",
    "\n",
    "delete(\"bar\") # hashes to index 2 \n",
    "\n",
    "\n",
    "Put:\n",
    "Find the hash index\n",
    "Search the list for the key\n",
    "If it's there, replace the value\n",
    "If it's not, append a new record to the list \n",
    "\n",
    "get(\"beej\")\n",
    "Get:\n",
    "Find the hash index\n",
    "Search the list for the key \n",
    "If found return the value\n",
    "Else return None \n",
    "\n",
    "Delete:\n",
    "Find the hash index\n",
    "Search the list for the key \n",
    "If found, delete the node from the list\n",
    "Else return None \n"
   ]
  },
  {
   "cell_type": "markdown",
   "metadata": {},
   "source": [
    "linked lists refresher \n",
    "\n",
    "\"\"\"\n",
    "\n",
    "(1) -> (2) -> (3) -> None\n",
    "\n",
    "^\n",
    "head \n",
    "\n",
    "class Node:\n",
    "    def __init__(self, value):\n",
    "        self.value = value\n",
    "        self.next = None \n",
    "        \n",
    "        \n",
    "        \n",
    "head = None \n",
    "\n",
    "\n",
    "\n",
    "def insert_at_head(value:\n",
    "    n = None(value)\n",
    "    n.next = head"
   ]
  },
  {
   "cell_type": "code",
   "execution_count": null,
   "metadata": {},
   "outputs": [],
   "source": []
  },
  {
   "cell_type": "code",
   "execution_count": null,
   "metadata": {},
   "outputs": [],
   "source": []
  },
  {
   "cell_type": "code",
   "execution_count": null,
   "metadata": {},
   "outputs": [],
   "source": []
  },
  {
   "cell_type": "code",
   "execution_count": null,
   "metadata": {},
   "outputs": [],
   "source": []
  },
  {
   "cell_type": "code",
   "execution_count": null,
   "metadata": {},
   "outputs": [],
   "source": []
  },
  {
   "cell_type": "code",
   "execution_count": null,
   "metadata": {},
   "outputs": [],
   "source": []
  },
  {
   "cell_type": "code",
   "execution_count": null,
   "metadata": {},
   "outputs": [],
   "source": []
  },
  {
   "cell_type": "code",
   "execution_count": null,
   "metadata": {},
   "outputs": [],
   "source": []
  },
  {
   "cell_type": "code",
   "execution_count": null,
   "metadata": {},
   "outputs": [],
   "source": []
  },
  {
   "cell_type": "code",
   "execution_count": null,
   "metadata": {},
   "outputs": [],
   "source": []
  },
  {
   "cell_type": "code",
   "execution_count": null,
   "metadata": {},
   "outputs": [],
   "source": []
  },
  {
   "cell_type": "code",
   "execution_count": null,
   "metadata": {},
   "outputs": [],
   "source": []
  },
  {
   "cell_type": "code",
   "execution_count": null,
   "metadata": {},
   "outputs": [],
   "source": []
  },
  {
   "cell_type": "code",
   "execution_count": null,
   "metadata": {},
   "outputs": [],
   "source": []
  },
  {
   "cell_type": "code",
   "execution_count": null,
   "metadata": {},
   "outputs": [],
   "source": []
  },
  {
   "cell_type": "code",
   "execution_count": null,
   "metadata": {},
   "outputs": [],
   "source": []
  },
  {
   "cell_type": "code",
   "execution_count": null,
   "metadata": {},
   "outputs": [],
   "source": []
  },
  {
   "cell_type": "code",
   "execution_count": null,
   "metadata": {},
   "outputs": [],
   "source": []
  },
  {
   "cell_type": "code",
   "execution_count": null,
   "metadata": {},
   "outputs": [],
   "source": []
  },
  {
   "cell_type": "code",
   "execution_count": null,
   "metadata": {},
   "outputs": [],
   "source": []
  },
  {
   "cell_type": "code",
   "execution_count": null,
   "metadata": {},
   "outputs": [],
   "source": []
  },
  {
   "cell_type": "code",
   "execution_count": null,
   "metadata": {},
   "outputs": [],
   "source": []
  },
  {
   "cell_type": "code",
   "execution_count": null,
   "metadata": {},
   "outputs": [],
   "source": []
  },
  {
   "cell_type": "code",
   "execution_count": null,
   "metadata": {},
   "outputs": [],
   "source": []
  },
  {
   "cell_type": "code",
   "execution_count": null,
   "metadata": {},
   "outputs": [],
   "source": []
  },
  {
   "cell_type": "code",
   "execution_count": null,
   "metadata": {},
   "outputs": [],
   "source": []
  },
  {
   "cell_type": "code",
   "execution_count": null,
   "metadata": {},
   "outputs": [],
   "source": []
  },
  {
   "cell_type": "code",
   "execution_count": null,
   "metadata": {},
   "outputs": [],
   "source": []
  },
  {
   "cell_type": "code",
   "execution_count": null,
   "metadata": {},
   "outputs": [],
   "source": []
  },
  {
   "cell_type": "code",
   "execution_count": null,
   "metadata": {},
   "outputs": [],
   "source": [
    "# keep track of load factor\n",
    "# increment item count each time an item is put into the table "
   ]
  },
  {
   "cell_type": "code",
   "execution_count": null,
   "metadata": {},
   "outputs": [],
   "source": [
    "# resizing, using load factor to automatically resize "
   ]
  },
  {
   "cell_type": "code",
   "execution_count": null,
   "metadata": {},
   "outputs": [],
   "source": [
    "# step one make a new table\n",
    "# step two go through all the elements and has into new list "
   ]
  },
  {
   "cell_type": "code",
   "execution_count": null,
   "metadata": {},
   "outputs": [],
   "source": [
    "# automatic resizing\n",
    "\n",
    "when before you put, if load > 0.7:\n",
    "    double size of the hastable\n",
    "\n",
    "when after you delete, if load < 0.2:\n",
    "    halve the size of the hash table\n",
    "        down to the minimum at most "
   ]
  },
  {
   "cell_type": "code",
   "execution_count": null,
   "metadata": {},
   "outputs": [],
   "source": [
    "# HAVE TO MAKE A NEW ARRAY OF BUCKETS\n",
    "# PROBLEM SOLVED \n",
    "# everything else can stay in place no need to delete "
   ]
  },
  {
   "cell_type": "code",
   "execution_count": null,
   "metadata": {},
   "outputs": [],
   "source": [
    "what do you mean some hash functions are tuned for using with hash tables? "
   ]
  },
  {
   "cell_type": "code",
   "execution_count": null,
   "metadata": {},
   "outputs": [],
   "source": []
  },
  {
   "cell_type": "code",
   "execution_count": null,
   "metadata": {},
   "outputs": [],
   "source": []
  },
  {
   "cell_type": "code",
   "execution_count": null,
   "metadata": {},
   "outputs": [],
   "source": []
  },
  {
   "cell_type": "code",
   "execution_count": null,
   "metadata": {},
   "outputs": [],
   "source": []
  },
  {
   "cell_type": "code",
   "execution_count": null,
   "metadata": {},
   "outputs": [],
   "source": []
  },
  {
   "cell_type": "code",
   "execution_count": null,
   "metadata": {},
   "outputs": [],
   "source": []
  },
  {
   "cell_type": "code",
   "execution_count": null,
   "metadata": {},
   "outputs": [],
   "source": []
  },
  {
   "cell_type": "code",
   "execution_count": null,
   "metadata": {},
   "outputs": [],
   "source": []
  },
  {
   "cell_type": "code",
   "execution_count": null,
   "metadata": {},
   "outputs": [],
   "source": []
  },
  {
   "cell_type": "code",
   "execution_count": null,
   "metadata": {},
   "outputs": [],
   "source": []
  },
  {
   "cell_type": "code",
   "execution_count": null,
   "metadata": {},
   "outputs": [],
   "source": []
  },
  {
   "cell_type": "code",
   "execution_count": null,
   "metadata": {},
   "outputs": [],
   "source": []
  },
  {
   "cell_type": "code",
   "execution_count": null,
   "metadata": {},
   "outputs": [],
   "source": []
  },
  {
   "cell_type": "code",
   "execution_count": null,
   "metadata": {},
   "outputs": [],
   "source": []
  },
  {
   "cell_type": "code",
   "execution_count": null,
   "metadata": {},
   "outputs": [],
   "source": []
  },
  {
   "cell_type": "code",
   "execution_count": null,
   "metadata": {},
   "outputs": [],
   "source": []
  },
  {
   "cell_type": "code",
   "execution_count": null,
   "metadata": {},
   "outputs": [],
   "source": []
  },
  {
   "cell_type": "code",
   "execution_count": null,
   "metadata": {},
   "outputs": [],
   "source": []
  },
  {
   "cell_type": "code",
   "execution_count": null,
   "metadata": {},
   "outputs": [],
   "source": []
  }
 ],
 "metadata": {
  "kernelspec": {
   "display_name": "Python 3",
   "language": "python",
   "name": "python3"
  },
  "language_info": {
   "codemirror_mode": {
    "name": "ipython",
    "version": 3
   },
   "file_extension": ".py",
   "mimetype": "text/x-python",
   "name": "python",
   "nbconvert_exporter": "python",
   "pygments_lexer": "ipython3",
   "version": "3.7.4"
  }
 },
 "nbformat": 4,
 "nbformat_minor": 4
}
